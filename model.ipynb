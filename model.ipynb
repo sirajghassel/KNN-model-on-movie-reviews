{
 "metadata": {
  "language_info": {
   "codemirror_mode": {
    "name": "ipython",
    "version": 3
   },
   "file_extension": ".py",
   "mimetype": "text/x-python",
   "name": "python",
   "nbconvert_exporter": "python",
   "pygments_lexer": "ipython3",
   "version": "3.8.2"
  },
  "orig_nbformat": 4,
  "kernelspec": {
   "name": "python3",
   "display_name": "Python 3.8.2 64-bit"
  },
  "interpreter": {
   "hash": "31f2aee4e71d21fbe5cf8b01ff0e069b9275f58929596ceb00d14d90e3e16cd6"
  }
 },
 "nbformat": 4,
 "nbformat_minor": 2,
 "cells": [
  {
   "source": [
    "# Training Data"
   ],
   "cell_type": "markdown",
   "metadata": {}
  },
  {
   "cell_type": "code",
   "execution_count": 23,
   "metadata": {},
   "outputs": [
    {
     "output_type": "execute_result",
     "data": {
      "text/plain": [
       "                                                text  label\n",
       "0  This movie makes me want to throw up every tim...      0\n",
       "1  Listening to the director's commentary confirm...      0\n",
       "2  One of the best Tarzan films is also one of it...      1\n",
       "3  Valentine is now one of my favorite slasher fi...      1\n",
       "4  No mention if Ann Rivers Siddons adapted the m...      0"
      ],
      "text/html": "<div>\n<style scoped>\n    .dataframe tbody tr th:only-of-type {\n        vertical-align: middle;\n    }\n\n    .dataframe tbody tr th {\n        vertical-align: top;\n    }\n\n    .dataframe thead th {\n        text-align: right;\n    }\n</style>\n<table border=\"1\" class=\"dataframe\">\n  <thead>\n    <tr style=\"text-align: right;\">\n      <th></th>\n      <th>text</th>\n      <th>label</th>\n    </tr>\n  </thead>\n  <tbody>\n    <tr>\n      <th>0</th>\n      <td>This movie makes me want to throw up every tim...</td>\n      <td>0</td>\n    </tr>\n    <tr>\n      <th>1</th>\n      <td>Listening to the director's commentary confirm...</td>\n      <td>0</td>\n    </tr>\n    <tr>\n      <th>2</th>\n      <td>One of the best Tarzan films is also one of it...</td>\n      <td>1</td>\n    </tr>\n    <tr>\n      <th>3</th>\n      <td>Valentine is now one of my favorite slasher fi...</td>\n      <td>1</td>\n    </tr>\n    <tr>\n      <th>4</th>\n      <td>No mention if Ann Rivers Siddons adapted the m...</td>\n      <td>0</td>\n    </tr>\n  </tbody>\n</table>\n</div>"
     },
     "metadata": {},
     "execution_count": 23
    }
   ],
   "source": [
    "import pandas as pd\n",
    "from pandas import *\n",
    "\n",
    "import numpy as np\n",
    "\n",
    "import re\n",
    "\n",
    "import sklearn\n",
    "from sklearn import tree\n",
    "\n",
    "import nltk\n",
    "#nltk.download()\n",
    "\n",
    "train_df = pd.read_csv('data/imdb_train.csv', header=0)\n",
    "train_df.head()"
   ]
  },
  {
   "source": [
    "# Test Data"
   ],
   "cell_type": "markdown",
   "metadata": {}
  },
  {
   "cell_type": "code",
   "execution_count": 25,
   "metadata": {},
   "outputs": [
    {
     "output_type": "execute_result",
     "data": {
      "text/plain": [
       "                                                text  label\n",
       "0  What I hoped for (or even expected) was the we...      0\n",
       "1  Garden State must rate amongst the most contri...      0\n",
       "2  There is a lot wrong with this film. I will no...      1\n",
       "3  To qualify my use of \"realistic\" in the summar...      1\n",
       "4  Dirty War is absolutely one of the best politi...      1"
      ],
      "text/html": "<div>\n<style scoped>\n    .dataframe tbody tr th:only-of-type {\n        vertical-align: middle;\n    }\n\n    .dataframe tbody tr th {\n        vertical-align: top;\n    }\n\n    .dataframe thead th {\n        text-align: right;\n    }\n</style>\n<table border=\"1\" class=\"dataframe\">\n  <thead>\n    <tr style=\"text-align: right;\">\n      <th></th>\n      <th>text</th>\n      <th>label</th>\n    </tr>\n  </thead>\n  <tbody>\n    <tr>\n      <th>0</th>\n      <td>What I hoped for (or even expected) was the we...</td>\n      <td>0</td>\n    </tr>\n    <tr>\n      <th>1</th>\n      <td>Garden State must rate amongst the most contri...</td>\n      <td>0</td>\n    </tr>\n    <tr>\n      <th>2</th>\n      <td>There is a lot wrong with this film. I will no...</td>\n      <td>1</td>\n    </tr>\n    <tr>\n      <th>3</th>\n      <td>To qualify my use of \"realistic\" in the summar...</td>\n      <td>1</td>\n    </tr>\n    <tr>\n      <th>4</th>\n      <td>Dirty War is absolutely one of the best politi...</td>\n      <td>1</td>\n    </tr>\n  </tbody>\n</table>\n</div>"
     },
     "metadata": {},
     "execution_count": 25
    }
   ],
   "source": [
    "test_df = pd.read_csv('data/imdb_test.csv',header =0)\n",
    "test_df.head()"
   ]
  },
  {
   "source": [
    "# Lowercase\n",
    "train_df['text'] = train_df['text'].str.lower()\n",
    "test_df['text'] = test_df['text'].str.lower()\n",
    "\n",
    "example_review = train_df.iloc[0]\n",
    "\n",
    "def tokens(row):\n",
    "    rowData = row['text']\n",
    "    tokens = nltk.word_tokenize(rowData)\n",
    "    \n",
    "    token_words = [i for i in tokens if i.isalpha()]\n",
    "    return token_words\n",
    "\n",
    "train_df['words'] = train_df.apply(tokens, axis =1)\n"
   ],
   "cell_type": "code",
   "metadata": {},
   "execution_count": 26,
   "outputs": [
    {
     "output_type": "stream",
     "name": "stdout",
     "text": [
      "this movie makes me want to throw up every time i see it. if you take the first movie, and reverse the plot (ariel wants to leave the sea, her daughter wants to go to the sea), take the same characters and give them new animals and new names, and then throw in crappy animation and the biggest suck factor, possible, you get the little mermaid 2. its basically a copy of the first movie with a reversed plot. i'll take you through the horror of it step by step. these are the people from the 1st movie: first of all, prince eric is still prince eric, with about 3 lines in the whole movie. ariel is uptight, annoying, and is not the carefree, headstrong spirit we saw in the 1st. in fact, she is the exact opposite. sebastian is still sebastian only less cute, less convincing as being stressed out, and the jokes just aren't funny anymore. flounder has about 2 lines. he now has kids and he talks with a dumb nasal voice. scuttle is still dumb scuttle only not funny. king triton's character is probably the best, he still retains the intimidation and love for his daughter, melody. ariel and prince eric appear not to give a hoot about their daughter. <br /><br />like i said, all they did was use the characters from the first movie and copy them. this is what they did: ursula- the new evil villain is morgana, ursula's sister who feels like she always lived in ursula's shadow. i wouldn't be scared of her if she showed up at my doorway with a knife. she can't do anything right and she's a failure as a villain. she has the same voice ursula did. sebastian & flounder - have been replaced by probably the most stupid sidekicks, tip & dash, a walrus and a penguin. they try to be hero's but always fail when trying. the plot is so predictable. they become heroes at the end. yawn. flatson& jetsom- now replaced by a shark who was turned about 10x smaller by triton. hes really bad too. morgana and the shark (sharkbait, i think was his name) have no chemistry, good or bad. ariel-ah, ariel. our lovely mermaid was replaced by her un-lovely daughter, melody. melody cannot sing, her voice is about 2 octaves higher than it should be, and you want to punch her in the face because shes so fake sugary sweet. she wants to go to the sea, she is clumsy and the kids make fun of her, she has to go find herself. yawn.<br /><br />not only is the movie boring and unoriginal its so simplistic when you watch this movie you will gasp at how bad it is. certain parts of the movie make you want to call disney up and demand why such a horrible movie was made as a sequel to such a wonderful original.<br /><br />basically, comparing the little mermaid 2 to the little mermaid is like comparing and ed wood movie to casablanca. don't ever watch this, not even when your bored.\n['this', 'movie', 'makes', 'me', 'want', 'to', 'throw', 'up', 'every', 'time', 'i', 'see', 'it', '.', 'if', 'you', 'take', 'the', 'first', 'movie', ',', 'and', 'reverse', 'the', 'plot', '(', 'ariel', 'wants', 'to', 'leave', 'the', 'sea', ',', 'her', 'daughter', 'wants', 'to', 'go', 'to', 'the', 'sea', ')', ',', 'take', 'the', 'same', 'characters', 'and', 'give', 'them', 'new', 'animals', 'and', 'new', 'names', ',', 'and', 'then', 'throw', 'in', 'crappy', 'animation', 'and', 'the', 'biggest', 'suck', 'factor', ',', 'possible', ',', 'you', 'get', 'the', 'little', 'mermaid', '2.', 'its', 'basically', 'a', 'copy', 'of', 'the', 'first', 'movie', 'with', 'a', 'reversed', 'plot', '.', 'i', \"'ll\", 'take', 'you', 'through', 'the', 'horror', 'of', 'it', 'step', 'by', 'step', '.', 'these', 'are', 'the', 'people', 'from', 'the', '1st', 'movie', ':', 'first', 'of', 'all', ',', 'prince', 'eric', 'is', 'still', 'prince', 'eric', ',', 'with', 'about', '3', 'lines', 'in', 'the', 'whole', 'movie', '.', 'ariel', 'is', 'uptight', ',', 'annoying', ',', 'and', 'is', 'not', 'the', 'carefree', ',', 'headstrong', 'spirit', 'we', 'saw', 'in', 'the', '1st', '.', 'in', 'fact', ',', 'she', 'is', 'the', 'exact', 'opposite', '.', 'sebastian', 'is', 'still', 'sebastian', 'only', 'less', 'cute', ',', 'less', 'convincing', 'as', 'being', 'stressed', 'out', ',', 'and', 'the', 'jokes', 'just', 'are', \"n't\", 'funny', 'anymore', '.', 'flounder', 'has', 'about', '2', 'lines', '.', 'he', 'now', 'has', 'kids', 'and', 'he', 'talks', 'with', 'a', 'dumb', 'nasal', 'voice', '.', 'scuttle', 'is', 'still', 'dumb', 'scuttle', 'only', 'not', 'funny', '.', 'king', 'triton', \"'s\", 'character', 'is', 'probably', 'the', 'best', ',', 'he', 'still', 'retains', 'the', 'intimidation', 'and', 'love', 'for', 'his', 'daughter', ',', 'melody', '.', 'ariel', 'and', 'prince', 'eric', 'appear', 'not', 'to', 'give', 'a', 'hoot', 'about', 'their', 'daughter', '.', '<', 'br', '/', '>', '<', 'br', '/', '>', 'like', 'i', 'said', ',', 'all', 'they', 'did', 'was', 'use', 'the', 'characters', 'from', 'the', 'first', 'movie', 'and', 'copy', 'them', '.', 'this', 'is', 'what', 'they', 'did', ':', 'ursula-', 'the', 'new', 'evil', 'villain', 'is', 'morgana', ',', 'ursula', \"'s\", 'sister', 'who', 'feels', 'like', 'she', 'always', 'lived', 'in', 'ursula', \"'s\", 'shadow', '.', 'i', 'would', \"n't\", 'be', 'scared', 'of', 'her', 'if', 'she', 'showed', 'up', 'at', 'my', 'doorway', 'with', 'a', 'knife', '.', 'she', 'ca', \"n't\", 'do', 'anything', 'right', 'and', 'she', \"'s\", 'a', 'failure', 'as', 'a', 'villain', '.', 'she', 'has', 'the', 'same', 'voice', 'ursula', 'did', '.', 'sebastian', '&', 'flounder', '-', 'have', 'been', 'replaced', 'by', 'probably', 'the', 'most', 'stupid', 'sidekicks', ',', 'tip', '&', 'dash', ',', 'a', 'walrus', 'and', 'a', 'penguin', '.', 'they', 'try', 'to', 'be', 'hero', \"'s\", 'but', 'always', 'fail', 'when', 'trying', '.', 'the', 'plot', 'is', 'so', 'predictable', '.', 'they', 'become', 'heroes', 'at', 'the', 'end', '.', 'yawn', '.', 'flatson', '&', 'jetsom-', 'now', 'replaced', 'by', 'a', 'shark', 'who', 'was', 'turned', 'about', '10x', 'smaller', 'by', 'triton', '.', 'hes', 'really', 'bad', 'too', '.', 'morgana', 'and', 'the', 'shark', '(', 'sharkbait', ',', 'i', 'think', 'was', 'his', 'name', ')', 'have', 'no', 'chemistry', ',', 'good', 'or', 'bad', '.', 'ariel-ah', ',', 'ariel', '.', 'our', 'lovely', 'mermaid', 'was', 'replaced', 'by', 'her', 'un-lovely', 'daughter', ',', 'melody', '.', 'melody', 'can', 'not', 'sing', ',', 'her', 'voice', 'is', 'about', '2', 'octaves', 'higher', 'than', 'it', 'should', 'be', ',', 'and', 'you', 'want', 'to', 'punch', 'her', 'in', 'the', 'face', 'because', 'shes', 'so', 'fake', 'sugary', 'sweet', '.', 'she', 'wants', 'to', 'go', 'to', 'the', 'sea', ',', 'she', 'is', 'clumsy', 'and', 'the', 'kids', 'make', 'fun', 'of', 'her', ',', 'she', 'has', 'to', 'go', 'find', 'herself', '.', 'yawn.', '<', 'br', '/', '>', '<', 'br', '/', '>', 'not', 'only', 'is', 'the', 'movie', 'boring', 'and', 'unoriginal', 'its', 'so', 'simplistic', 'when', 'you', 'watch', 'this', 'movie', 'you', 'will', 'gasp', 'at', 'how', 'bad', 'it', 'is', '.', 'certain', 'parts', 'of', 'the', 'movie', 'make', 'you', 'want', 'to', 'call', 'disney', 'up', 'and', 'demand', 'why', 'such', 'a', 'horrible', 'movie', 'was', 'made', 'as', 'a', 'sequel', 'to', 'such', 'a', 'wonderful', 'original.', '<', 'br', '/', '>', '<', 'br', '/', '>', 'basically', ',', 'comparing', 'the', 'little', 'mermaid', '2', 'to', 'the', 'little', 'mermaid', 'is', 'like', 'comparing', 'and', 'ed', 'wood', 'movie', 'to', 'casablanca', '.', 'do', \"n't\", 'ever', 'watch', 'this', ',', 'not', 'even', 'when', 'your', 'bored', '.']\n"
     ]
    }
   ]
  },
  {
   "cell_type": "code",
   "execution_count": 27,
   "metadata": {},
   "outputs": [],
   "source": [
    "#Stop Words\n",
    "\n",
    "from nltk.corpus import stopwords\n",
    "\n",
    "stop = set(stopwords.words(\"english\"))\n",
    "\n",
    "def remove_stop_words(row):\n",
    "    rowData = row['text']\n",
    "    usefulWords = [i for i in rowData if not i in stop]\n",
    "    return usefulWords\n",
    "\n",
    "train_df['text'] = train_df.apply(tokens, axis =1)\n",
    "\n"
   ]
  },
  {
   "source": [
    "- remove brackets\n",
    "- periods\n",
    "- quotations\n",
    "- lowercase\n"
   ],
   "cell_type": "markdown",
   "metadata": {}
  },
  {
   "source": [
    "# Preprocessing Step"
   ],
   "cell_type": "markdown",
   "metadata": {}
  },
  {
   "source": [
    "# Tokenizing Text\n",
    "from sklearn.feature_extraction.text import CountVectorizer\n",
    "count_vec = CountVectorizer()\n"
   ],
   "cell_type": "code",
   "metadata": {},
   "execution_count": 28,
   "outputs": []
  }
 ]
}